{
 "cells": [
  {
   "cell_type": "code",
   "execution_count": 1,
   "metadata": {},
   "outputs": [
    {
     "name": "stderr",
     "output_type": "stream",
     "text": [
      "Setting default log level to \"WARN\".\n",
      "To adjust logging level use sc.setLogLevel(newLevel). For SparkR, use setLogLevel(newLevel).\n",
      "24/09/08 16:25:42 WARN NativeCodeLoader: Unable to load native-hadoop library for your platform... using builtin-java classes where applicable\n"
     ]
    },
    {
     "data": {
      "text/html": [
       "\n",
       "            <div>\n",
       "                <p><b>SparkSession - in-memory</b></p>\n",
       "                \n",
       "        <div>\n",
       "            <p><b>SparkContext</b></p>\n",
       "\n",
       "            <p><a href=\"http://master:4040\">Spark UI</a></p>\n",
       "\n",
       "            <dl>\n",
       "              <dt>Version</dt>\n",
       "                <dd><code>v3.5.2</code></dd>\n",
       "              <dt>Master</dt>\n",
       "                <dd><code>spark://master:7077</code></dd>\n",
       "              <dt>AppName</dt>\n",
       "                <dd><code>Library Management Analysis</code></dd>\n",
       "            </dl>\n",
       "        </div>\n",
       "        \n",
       "            </div>\n",
       "        "
      ],
      "text/plain": [
       "<pyspark.sql.session.SparkSession at 0x7669fb70b910>"
      ]
     },
     "execution_count": 1,
     "metadata": {},
     "output_type": "execute_result"
    }
   ],
   "source": [
    "from pyspark.sql import SparkSession\n",
    "from pyspark.sql.types import StructType, StructField, StringType, FloatType, IntegerType, DateType\n",
    "from pyspark.sql import Window as W\n",
    "import pyspark.sql.functions as F\n",
    "\n",
    "# Initialize SparkSession\n",
    "spark = SparkSession.builder \\\n",
    "    .appName(\"Library Management Analysis\") \\\n",
    "    .getOrCreate()\n",
    "spark"
   ]
  },
  {
   "cell_type": "code",
   "execution_count": 2,
   "metadata": {},
   "outputs": [
    {
     "name": "stdout",
     "output_type": "stream",
     "text": [
      "branch\n"
     ]
    },
    {
     "name": "stderr",
     "output_type": "stream",
     "text": [
      "                                                                                \r"
     ]
    },
    {
     "name": "stdout",
     "output_type": "stream",
     "text": [
      "+---------+----------+--------------+-------------+\n",
      "|branch_id|manager_id|branch_address|contact_no   |\n",
      "+---------+----------+--------------+-------------+\n",
      "|B001     |E109      |123 Main St   |+919099988676|\n",
      "|B002     |E109      |456 Elm St    |+919099988677|\n",
      "|B003     |E109      |789 Oak St    |+919099988678|\n",
      "|B004     |E110      |567 Pine St   |+919099988679|\n",
      "|B005     |E110      |890 Maple St  |+919099988680|\n",
      "+---------+----------+--------------+-------------+\n",
      "\n",
      "\n",
      "employees\n"
     ]
    },
    {
     "name": "stderr",
     "output_type": "stream",
     "text": [
      "                                                                                \r"
     ]
    },
    {
     "name": "stdout",
     "output_type": "stream",
     "text": [
      "+------+----------------+---------+-------+---------+\n",
      "|emp_id|emp_name        |position |salary |branch_id|\n",
      "+------+----------------+---------+-------+---------+\n",
      "|E101  |John Doe        |Clerk    |60000.0|B001     |\n",
      "|E102  |Jane Smith      |Clerk    |45000.0|B002     |\n",
      "|E103  |Mike Johnson    |Librarian|55000.0|B001     |\n",
      "|E104  |Emily Davis     |Assistant|40000.0|B001     |\n",
      "|E105  |Sarah Brown     |Assistant|42000.0|B001     |\n",
      "|E106  |Michelle Ramirez|Assistant|43000.0|B001     |\n",
      "|E107  |Michael Thompson|Clerk    |62000.0|B005     |\n",
      "|E108  |Jessica Taylor  |Clerk    |46000.0|B004     |\n",
      "|E109  |Daniel Anderson |Manager  |57000.0|B003     |\n",
      "|E110  |Laura Martinez  |Manager  |41000.0|B005     |\n",
      "|E111  |Christopher Lee |Assistant|65000.0|B005     |\n",
      "+------+----------------+---------+-------+---------+\n",
      "\n",
      "\n",
      "books\n",
      "+-----------------+-----------------------------------------------------+----------------+------------+------+----------------------+-------------------------+\n",
      "|isbn             |book_title                                           |category        |rental_price|status|author                |publisher                |\n",
      "+-----------------+-----------------------------------------------------+----------------+------------+------+----------------------+-------------------------+\n",
      "|978-0-553-29698-2|The Catcher in the Rye                               |Classic         |7.0         |yes   |J.D. Salinger         |Little, Brown and Company|\n",
      "|978-0-330-25864-8|Animal Farm                                          |Classic         |5.5         |yes   |George Orwell         |Penguin Books            |\n",
      "|978-0-14-118776-1|One Hundred Years of Solitude                        |Literary Fiction|6.5         |yes   |Gabriel Garcia Marquez|Penguin Books            |\n",
      "|978-0-525-47535-5|The Great Gatsby                                     |Classic         |8.0         |yes   |F. Scott Fitzgerald   |Scribner                 |\n",
      "|978-0-141-44171-6|Jane Eyre                                            |Classic         |4.0         |yes   |Charlotte Bronte      |Penguin Classics         |\n",
      "|978-0-307-37840-1|The Alchemist                                        |Fiction         |2.5         |yes   |Paulo Coelho          |HarperOne                |\n",
      "|978-0-679-76489-8|Harry Potter and the Sorcerers Stone                 |Fantasy         |7.0         |yes   |J.K. Rowling          |Scholastic               |\n",
      "|978-0-7432-4722-4|The Da Vinci Code                                    |Mystery         |8.0         |yes   |Dan Brown             |Doubleday                |\n",
      "|978-0-09-957807-9|A Game of Thrones                                    |Fantasy         |7.5         |yes   |George R.R. Martin    |Bantam                   |\n",
      "|978-0-393-05081-8|A Peoples History of the United States               |History         |9.0         |yes   |Howard Zinn           |Harper Perennial         |\n",
      "|978-0-19-280551-1|The Guns of August                                   |History         |7.0         |yes   |Barbara W. Tuchman    |Oxford University Press  |\n",
      "|978-0-307-58837-1|Sapiens: A Brief History of Humankind                |History         |8.0         |no    |Yuval Noah Harari     |Harper Perennial         |\n",
      "|978-0-375-41398-8|The Diary of a Young Girl                            |History         |6.5         |no    |Anne Frank            |Bantam                   |\n",
      "|978-0-14-044930-3|The Histories                                        |History         |5.5         |yes   |Herodotus             |Penguin Classics         |\n",
      "|978-0-393-91257-8|Guns, Germs, and Steel: The Fates of Human Societies |History         |7.0         |yes   |Jared Diamond         |W. W. Norton & Company   |\n",
      "|978-0-7432-7357-1|1491: New Revelations of the Americas Before Columbus|History         |6.5         |no    |Charles C. Mann       |Vintage Books            |\n",
      "|978-0-679-64115-3|1984                                                 |Dystopian       |6.5         |yes   |George Orwell         |Penguin Books            |\n",
      "|978-0-14-143951-8|Pride and Prejudice                                  |Classic         |5.0         |yes   |Jane Austen           |Penguin Classics         |\n",
      "|978-0-452-28240-7|Brave New World                                      |Dystopian       |6.5         |yes   |Aldous Huxley         |Harper Perennial         |\n",
      "|978-0-670-81302-4|The Road                                             |Dystopian       |7.0         |yes   |Cormac McCarthy       |Knopf                    |\n",
      "+-----------------+-----------------------------------------------------+----------------+------------+------+----------------------+-------------------------+\n",
      "only showing top 20 rows\n",
      "\n",
      "\n",
      "issue_status\n",
      "+---------+----------------+----------------------------------------------------+-----------+-----------------+-------------+\n",
      "|issued_id|issued_member_id|issued_book_name                                    |issued_date|issued_book_isbn |issued_emp_id|\n",
      "+---------+----------------+----------------------------------------------------+-----------+-----------------+-------------+\n",
      "|IS106    |C106            |Animal Farm                                         |2024-03-10 |978-0-330-25864-8|E104         |\n",
      "|IS107    |C107            |One Hundred Years of Solitude                       |2024-03-11 |978-0-14-118776-1|E104         |\n",
      "|IS108    |C108            |The Great Gatsby                                    |2024-03-12 |978-0-525-47535-5|E104         |\n",
      "|IS109    |C109            |Jane Eyre                                           |2024-03-13 |978-0-141-44171-6|E105         |\n",
      "|IS110    |C110            |The Alchemist                                       |2024-03-14 |978-0-307-37840-1|E105         |\n",
      "|IS111    |C109            |Harry Potter and the Sorcerers Stone                |2024-03-15 |978-0-679-76489-8|E105         |\n",
      "|IS112    |C109            |A Game of Thrones                                   |2024-03-16 |978-0-09-957807-9|E106         |\n",
      "|IS113    |C109            |A Peoples History of the United States              |2024-03-17 |978-0-393-05081-8|E106         |\n",
      "|IS114    |C109            |The Guns of August                                  |2024-03-18 |978-0-19-280551-1|E106         |\n",
      "|IS115    |C109            |The Histories                                       |2024-03-19 |978-0-14-044930-3|E107         |\n",
      "|IS116    |C110            |Guns, Germs, and Steel: The Fates of Human Societies|2024-03-20 |978-0-393-91257-8|E107         |\n",
      "|IS117    |C110            |1984                                                |2024-03-21 |978-0-679-64115-3|E107         |\n",
      "|IS118    |C101            |Pride and Prejudice                                 |2024-03-22 |978-0-14-143951-8|E108         |\n",
      "|IS119    |C110            |Brave New World                                     |2024-03-23 |978-0-452-28240-7|E108         |\n",
      "|IS120    |C110            |The Road                                            |2024-03-24 |978-0-670-81302-4|E108         |\n",
      "|IS121    |C102            |The Shining                                         |2024-03-25 |978-0-385-33312-0|E109         |\n",
      "|IS122    |C102            |Fahrenheit 451                                      |2024-03-26 |978-0-451-52993-5|E109         |\n",
      "|IS123    |C103            |Dune                                                |2024-03-27 |978-0-345-39180-3|E109         |\n",
      "|IS124    |C104            |Where the Wild Things Are                           |2024-03-28 |978-0-06-025492-6|E110         |\n",
      "|IS125    |C105            |The Kite Runner                                     |2024-03-29 |978-0-06-112241-5|E110         |\n",
      "+---------+----------------+----------------------------------------------------+-----------+-----------------+-------------+\n",
      "only showing top 20 rows\n",
      "\n",
      "\n",
      "return_status\n",
      "+---------+---------+----------------+-----------+----------------+\n",
      "|return_id|issued_id|return_book_name|return_date|return_book_isbn|\n",
      "+---------+---------+----------------+-----------+----------------+\n",
      "|RS101    |IS101    |NULL            |2023-06-06 |NULL            |\n",
      "|RS102    |IS105    |NULL            |2023-06-07 |NULL            |\n",
      "|RS103    |IS103    |NULL            |2023-08-07 |NULL            |\n",
      "|RS104    |IS106    |NULL            |2024-05-01 |NULL            |\n",
      "|RS105    |IS107    |NULL            |2024-05-03 |NULL            |\n",
      "|RS106    |IS108    |NULL            |2024-05-05 |NULL            |\n",
      "|RS107    |IS109    |NULL            |2024-05-07 |NULL            |\n",
      "|RS108    |IS110    |NULL            |2024-05-09 |NULL            |\n",
      "|RS109    |IS111    |NULL            |2024-05-11 |NULL            |\n",
      "|RS110    |IS112    |NULL            |2024-05-13 |NULL            |\n",
      "|RS111    |IS113    |NULL            |2024-05-15 |NULL            |\n",
      "|RS112    |IS114    |NULL            |2024-05-17 |NULL            |\n",
      "|RS113    |IS115    |NULL            |2024-05-19 |NULL            |\n",
      "|RS114    |IS116    |NULL            |2024-05-21 |NULL            |\n",
      "|RS115    |IS117    |NULL            |2024-05-23 |NULL            |\n",
      "|RS116    |IS118    |NULL            |2024-05-25 |NULL            |\n",
      "|RS117    |IS119    |NULL            |2024-05-27 |NULL            |\n",
      "|RS118    |IS120    |NULL            |2024-05-29 |NULL            |\n",
      "+---------+---------+----------------+-----------+----------------+\n",
      "\n",
      "\n",
      "members\n",
      "+---------+--------------+--------------+----------+\n",
      "|member_id|member_name   |member_address|reg_date  |\n",
      "+---------+--------------+--------------+----------+\n",
      "|C101     |Alice Johnson |123 Main St   |2021-05-15|\n",
      "|C102     |Bob Smith     |456 Elm St    |2021-06-20|\n",
      "|C103     |Carol Davis   |789 Oak St    |2021-07-10|\n",
      "|C104     |Dave Wilson   |567 Pine St   |2021-08-05|\n",
      "|C105     |Eve Brown     |890 Maple St  |2021-09-25|\n",
      "|C106     |Frank Thomas  |234 Cedar St  |2021-10-15|\n",
      "|C107     |Grace Taylor  |345 Walnut St |2021-11-20|\n",
      "|C108     |Henry Anderson|456 Birch St  |2021-12-10|\n",
      "|C109     |Ivy Martinez  |567 Oak St    |2022-01-05|\n",
      "|C110     |Jack Wilson   |678 Pine St   |2022-02-25|\n",
      "|C118     |Sam           |133 Pine St   |2024-06-01|\n",
      "|C119     |John          |143 Main St   |2024-05-01|\n",
      "+---------+--------------+--------------+----------+\n",
      "\n",
      "\n"
     ]
    }
   ],
   "source": [
    "# Schema for 'branch' table\n",
    "branch_schema = StructType([\n",
    "    StructField(\"branch_id\", StringType(), True),\n",
    "    StructField(\"manager_id\", StringType(), True),\n",
    "    StructField(\"branch_address\", StringType(), True),\n",
    "    StructField(\"contact_no\", StringType(), True)\n",
    "])\n",
    "\n",
    "# Schema for 'employees' table\n",
    "employees_schema = StructType([\n",
    "    StructField(\"emp_id\", StringType(), True),\n",
    "    StructField(\"emp_name\", StringType(), True),\n",
    "    StructField(\"position\", StringType(), True),\n",
    "    StructField(\"salary\", FloatType(), True),\n",
    "    StructField(\"branch_id\", StringType(), True)\n",
    "])\n",
    "\n",
    "# Schema for 'books' table\n",
    "books_schema = StructType([\n",
    "    StructField(\"isbn\", StringType(), True),\n",
    "    StructField(\"book_title\", StringType(), True),\n",
    "    StructField(\"category\", StringType(), True),\n",
    "    StructField(\"rental_price\", FloatType(), True),\n",
    "    StructField(\"status\", StringType(), True),\n",
    "    StructField(\"author\", StringType(), True),\n",
    "    StructField(\"publisher\", StringType(), True)\n",
    "])\n",
    "\n",
    "# Schema for 'issue_status' table\n",
    "issue_status_schema = StructType([\n",
    "    StructField(\"issued_id\", StringType(), True),\n",
    "    StructField(\"issued_member_id\", StringType(), True),\n",
    "    StructField(\"issued_book_name\", StringType(), True),\n",
    "    StructField(\"issued_date\", DateType(), True),\n",
    "    StructField(\"issued_book_isbn\", StringType(), True),\n",
    "    StructField(\"issued_emp_id\", StringType(), True)\n",
    "])\n",
    "\n",
    "# Schema for 'return_status' table\n",
    "return_status_schema = StructType([\n",
    "    StructField(\"return_id\", StringType(), True),\n",
    "    StructField(\"issued_id\", StringType(), True),\n",
    "    StructField(\"return_book_name\", StringType(), True),\n",
    "    StructField(\"return_date\", DateType(), True),\n",
    "    StructField(\"return_book_isbn\", StringType(), True)\n",
    "])\n",
    "\n",
    "# Schema for 'members' table\n",
    "members_schema = StructType([\n",
    "    StructField(\"member_id\", StringType(), True),\n",
    "    StructField(\"member_name\", StringType(), True),\n",
    "    StructField(\"member_address\", StringType(), True),\n",
    "    StructField(\"reg_date\", DateType(), True)\n",
    "])\n",
    "\n",
    "# Load the CSV files into DataFrames\n",
    "branch_df = spark.read.csv(\"/data/Library-System-Management/branch.csv\", header=True, schema=branch_schema)\n",
    "employees_df = spark.read.csv(\"/data/Library-System-Management/employees.csv\", header=True, schema=employees_schema)\n",
    "books_df = spark.read.csv(\"/data/Library-System-Management/books.csv\", header=True, schema=books_schema)\n",
    "issue_status_df = spark.read.csv(\"/data/Library-System-Management/issued_status.csv\", header=True, schema=issue_status_schema)\n",
    "return_status_df = spark.read.csv(\"/data/Library-System-Management/return_status.csv\", header=True, schema=return_status_schema)\n",
    "members_df = spark.read.csv(\"/data/Library-System-Management/members.csv\", header=True, schema=members_schema)\n",
    "\n",
    "# Register DataFrames as temporary views\n",
    "branch_df.createOrReplaceTempView(\"branch\")\n",
    "employees_df.createOrReplaceTempView(\"employees\")\n",
    "books_df.createOrReplaceTempView(\"books\")\n",
    "issue_status_df.createOrReplaceTempView(\"issue_status\")\n",
    "return_status_df.createOrReplaceTempView(\"return_status\")\n",
    "members_df.createOrReplaceTempView(\"members\")\n",
    "\n",
    "views = [\"branch\",\"employees\",\"books\",\"issue_status\",\"return_status\",\"members\"]\n",
    "for view in views: \n",
    "    print(f\"{view}\")\n",
    "    spark.sql('select * from '+view).show(20,False)\n",
    "    print()"
   ]
  },
  {
   "cell_type": "code",
   "execution_count": 3,
   "metadata": {},
   "outputs": [
    {
     "name": "stderr",
     "output_type": "stream",
     "text": [
      "[Stage 6:>                                                          (0 + 1) / 1]\r"
     ]
    },
    {
     "name": "stdout",
     "output_type": "stream",
     "text": [
      "+------+\n",
      "|Counts|\n",
      "+------+\n",
      "|C109  |\n",
      "|C110  |\n",
      "|C102  |\n",
      "|C106  |\n",
      "|C105  |\n",
      "|C107  |\n",
      "|C108  |\n",
      "+------+\n",
      "\n"
     ]
    },
    {
     "name": "stderr",
     "output_type": "stream",
     "text": [
      "                                                                                \r"
     ]
    }
   ],
   "source": [
    "# Library-System-Management:\n",
    "# List Members Who Have Issued More Than One Book -- Objective: Use GROUP BY to find members who have issued more than one \n",
    "spark.sql(\"\"\"\n",
    "          \n",
    "          select issued_member_id as Counts from issue_status group by issued_member_id having count(issued_member_id) > 1\n",
    "\"\"\").show(20,False)"
   ]
  },
  {
   "cell_type": "code",
   "execution_count": 6,
   "metadata": {},
   "outputs": [
    {
     "name": "stdout",
     "output_type": "stream",
     "text": [
      "+-----------------+----------------+\n",
      "|sum(rental_price)|category        |\n",
      "+-----------------+----------------+\n",
      "|13.0             |Horror          |\n",
      "|7.5              |Children        |\n",
      "|49.5             |History         |\n",
      "|28.5             |Fantasy         |\n",
      "|7.5              |Mystery         |\n",
      "|59.0             |Classic         |\n",
      "|14.5             |Fiction         |\n",
      "|25.5             |Dystopian       |\n",
      "|6.5              |Literary Fiction|\n",
      "|8.5              |Science Fiction |\n",
      "+-----------------+----------------+\n",
      "\n"
     ]
    }
   ],
   "source": [
    "# Find Total Rental Income by Category\n",
    "spark.sql(\"\"\"\n",
    "          with cte as ( select * from books b join issue_status i \n",
    "          on b.isbn = i.issued_book_isbn)\n",
    "        select sum(rental_price), category from cte group by category\n",
    "\"\"\").show(20,False)"
   ]
  },
  {
   "cell_type": "code",
   "execution_count": 8,
   "metadata": {},
   "outputs": [
    {
     "name": "stdout",
     "output_type": "stream",
     "text": [
      "+-----------+----------+\n",
      "|member_name|reg_date  |\n",
      "+-----------+----------+\n",
      "|Sam        |2024-06-01|\n",
      "|John       |2024-05-01|\n",
      "+-----------+----------+\n",
      "\n"
     ]
    }
   ],
   "source": [
    "# List Members Who Registered in the Last 180 Days\n",
    "spark.sql(\"\"\"\n",
    "          select member_name, reg_date from members \n",
    "          where date_diff(current_date(), reg_date) <=180\n",
    "\"\"\").show(20,False)"
   ]
  },
  {
   "cell_type": "code",
   "execution_count": 15,
   "metadata": {},
   "outputs": [
    {
     "name": "stdout",
     "output_type": "stream",
     "text": [
      "+---------+----------+--------------+-------------+---------------+------+----------------+---------+-------+---------+\n",
      "|branch_id|manager_id|branch_address|contact_no   |emp_name       |emp_id|emp_name        |position |salary |branch_id|\n",
      "+---------+----------+--------------+-------------+---------------+------+----------------+---------+-------+---------+\n",
      "|B003     |E109      |789 Oak St    |+919099988678|Daniel Anderson|E109  |Daniel Anderson |Manager  |57000.0|B003     |\n",
      "|B002     |E109      |456 Elm St    |+919099988677|Daniel Anderson|E102  |Jane Smith      |Clerk    |45000.0|B002     |\n",
      "|B001     |E109      |123 Main St   |+919099988676|Daniel Anderson|E106  |Michelle Ramirez|Assistant|43000.0|B001     |\n",
      "|B001     |E109      |123 Main St   |+919099988676|Daniel Anderson|E105  |Sarah Brown     |Assistant|42000.0|B001     |\n",
      "|B001     |E109      |123 Main St   |+919099988676|Daniel Anderson|E104  |Emily Davis     |Assistant|40000.0|B001     |\n",
      "|B001     |E109      |123 Main St   |+919099988676|Daniel Anderson|E103  |Mike Johnson    |Librarian|55000.0|B001     |\n",
      "|B001     |E109      |123 Main St   |+919099988676|Daniel Anderson|E101  |John Doe        |Clerk    |60000.0|B001     |\n",
      "|B005     |E110      |890 Maple St  |+919099988680|Laura Martinez |E111  |Christopher Lee |Assistant|65000.0|B005     |\n",
      "|B005     |E110      |890 Maple St  |+919099988680|Laura Martinez |E110  |Laura Martinez  |Manager  |41000.0|B005     |\n",
      "|B005     |E110      |890 Maple St  |+919099988680|Laura Martinez |E107  |Michael Thompson|Clerk    |62000.0|B005     |\n",
      "|B004     |E110      |567 Pine St   |+919099988679|Laura Martinez |E108  |Jessica Taylor  |Clerk    |46000.0|B004     |\n",
      "+---------+----------+--------------+-------------+---------------+------+----------------+---------+-------+---------+\n",
      "\n"
     ]
    }
   ],
   "source": [
    "\n",
    "# List Employees with Their Branch Manager's Name and their branch details\n",
    "spark.sql(\"\"\"\n",
    "with cte as ( \n",
    "    select branch.branch_id,manager_id,branch_address,contact_no,emp_name from branch \n",
    "    join employees on branch.manager_id = employees.emp_id \n",
    "),\n",
    "  cte2 as ( \n",
    "    select * from cte c join employees e on c.branch_id=e.branch_id\n",
    ")        \n",
    "    select * from cte2\n",
    "\"\"\").show(20,False)"
   ]
  },
  {
   "cell_type": "code",
   "execution_count": 19,
   "metadata": {},
   "outputs": [
    {
     "name": "stdout",
     "output_type": "stream",
     "text": [
      "+---------+----------------+-----------------------------------------------------+-----------+-----------------+-------------+---------+---------+----------------+-----------+----------------+\n",
      "|issued_id|issued_member_id|issued_book_name                                     |issued_date|issued_book_isbn |issued_emp_id|return_id|issued_id|return_book_name|return_date|return_book_isbn|\n",
      "+---------+----------------+-----------------------------------------------------+-----------+-----------------+-------------+---------+---------+----------------+-----------+----------------+\n",
      "|IS121    |C102            |The Shining                                          |2024-03-25 |978-0-385-33312-0|E109         |NULL     |NULL     |NULL            |NULL       |NULL            |\n",
      "|IS122    |C102            |Fahrenheit 451                                       |2024-03-26 |978-0-451-52993-5|E109         |NULL     |NULL     |NULL            |NULL       |NULL            |\n",
      "|IS123    |C103            |Dune                                                 |2024-03-27 |978-0-345-39180-3|E109         |NULL     |NULL     |NULL            |NULL       |NULL            |\n",
      "|IS124    |C104            |Where the Wild Things Are                            |2024-03-28 |978-0-06-025492-6|E110         |NULL     |NULL     |NULL            |NULL       |NULL            |\n",
      "|IS125    |C105            |The Kite Runner                                      |2024-03-29 |978-0-06-112241-5|E110         |NULL     |NULL     |NULL            |NULL       |NULL            |\n",
      "|IS126    |C105            |Charlotte's Web                                      |2024-03-30 |978-0-06-440055-8|E110         |NULL     |NULL     |NULL            |NULL       |NULL            |\n",
      "|IS127    |C105            |Beloved                                              |2024-03-31 |978-0-679-77644-3|E110         |NULL     |NULL     |NULL            |NULL       |NULL            |\n",
      "|IS128    |C105            |A Tale of Two Cities                                 |2024-04-01 |978-0-14-027526-3|E110         |NULL     |NULL     |NULL            |NULL       |NULL            |\n",
      "|IS129    |C105            |The Stand                                            |2024-04-02 |978-0-7434-7679-3|E110         |NULL     |NULL     |NULL            |NULL       |NULL            |\n",
      "|IS130    |C106            |Moby Dick                                            |2024-04-03 |978-0-451-52994-2|E101         |NULL     |NULL     |NULL            |NULL       |NULL            |\n",
      "|IS131    |C106            |To Kill a Mockingbird                                |2024-04-04 |978-0-06-112008-4|E101         |NULL     |NULL     |NULL            |NULL       |NULL            |\n",
      "|IS132    |C106            |The Hobbit                                           |2024-04-05 |978-0-7432-7356-4|E106         |NULL     |NULL     |NULL            |NULL       |NULL            |\n",
      "|IS133    |C107            |Angels & Demons                                      |2024-04-06 |978-0-7432-4722-5|E106         |NULL     |NULL     |NULL            |NULL       |NULL            |\n",
      "|IS134    |C107            |The Diary of a Young Girl                            |2024-04-07 |978-0-375-41398-8|E106         |NULL     |NULL     |NULL            |NULL       |NULL            |\n",
      "|IS135    |C107            |Sapiens: A Brief History of Humankind                |2024-04-08 |978-0-307-58837-1|E108         |NULL     |NULL     |NULL            |NULL       |NULL            |\n",
      "|IS136    |C107            |1491: New Revelations of the Americas Before Columbus|2024-04-09 |978-0-7432-7357-1|E102         |NULL     |NULL     |NULL            |NULL       |NULL            |\n",
      "|IS137    |C107            |The Catcher in the Rye                               |2024-04-10 |978-0-553-29698-2|E103         |NULL     |NULL     |NULL            |NULL       |NULL            |\n",
      "|IS138    |C108            |The Great Gatsby                                     |2024-04-11 |978-0-525-47535-5|E104         |NULL     |NULL     |NULL            |NULL       |NULL            |\n",
      "|IS139    |C109            |Harry Potter and the Sorcerers Stone                 |2024-04-12 |978-0-679-76489-8|E105         |NULL     |NULL     |NULL            |NULL       |NULL            |\n",
      "|IS140    |C110            |Animal Farm                                          |2024-04-13 |978-0-330-25864-8|E102         |NULL     |NULL     |NULL            |NULL       |NULL            |\n",
      "+---------+----------------+-----------------------------------------------------+-----------+-----------------+-------------+---------+---------+----------------+-----------+----------------+\n",
      "\n"
     ]
    }
   ],
   "source": [
    "\n",
    "# Retrieve the List of Books Not Yet Returned\n",
    "spark.sql(\"\"\"\n",
    "          with cte as (\n",
    "             select * from issue_status i \n",
    "                LEFT join return_status r on i.issued_id = r.issued_id\n",
    "          )\n",
    "          select * from cte WHERE return_date is NULL\n",
    "\"\"\").show(20,False)"
   ]
  },
  {
   "cell_type": "code",
   "execution_count": null,
   "metadata": {},
   "outputs": [],
   "source": [
    "spark.stop()"
   ]
  }
 ],
 "metadata": {
  "kernelspec": {
   "display_name": "Python 3 (ipykernel)",
   "language": "python",
   "name": "python3"
  },
  "language_info": {
   "codemirror_mode": {
    "name": "ipython",
    "version": 3
   },
   "file_extension": ".py",
   "mimetype": "text/x-python",
   "name": "python",
   "nbconvert_exporter": "python",
   "pygments_lexer": "ipython3",
   "version": "3.8.10"
  }
 },
 "nbformat": 4,
 "nbformat_minor": 2
}
