{
 "cells": [
  {
   "cell_type": "code",
   "execution_count": 1,
   "metadata": {},
   "outputs": [
    {
     "name": "stderr",
     "output_type": "stream",
     "text": [
      "Setting default log level to \"WARN\".\n",
      "To adjust logging level use sc.setLogLevel(newLevel). For SparkR, use setLogLevel(newLevel).\n",
      "24/09/02 16:56:55 WARN NativeCodeLoader: Unable to load native-hadoop library for your platform... using builtin-java classes where applicable\n"
     ]
    },
    {
     "data": {
      "text/html": [
       "\n",
       "            <div>\n",
       "                <p><b>SparkSession - in-memory</b></p>\n",
       "                \n",
       "        <div>\n",
       "            <p><b>SparkContext</b></p>\n",
       "\n",
       "            <p><a href=\"http://master:4040\">Spark UI</a></p>\n",
       "\n",
       "            <dl>\n",
       "              <dt>Version</dt>\n",
       "                <dd><code>v3.5.2</code></dd>\n",
       "              <dt>Master</dt>\n",
       "                <dd><code>spark://master:7077</code></dd>\n",
       "              <dt>AppName</dt>\n",
       "                <dd><code>RetailSales</code></dd>\n",
       "            </dl>\n",
       "        </div>\n",
       "        \n",
       "            </div>\n",
       "        "
      ],
      "text/plain": [
       "<pyspark.sql.session.SparkSession at 0x73e79c747b50>"
      ]
     },
     "execution_count": 1,
     "metadata": {},
     "output_type": "execute_result"
    }
   ],
   "source": [
    "from pyspark.sql import SparkSession\n",
    "from pyspark.sql.types import StructType, StructField, StringType, FloatType, IntegerType, DateType\n",
    "from pyspark.sql import Window as W\n",
    "import pyspark.sql.functions as F\n",
    "\n",
    "# Initialize SparkSession\n",
    "spark = SparkSession.builder \\\n",
    "    .appName(\"RetailSales\") \\\n",
    "    .getOrCreate()\n",
    "spark"
   ]
  },
  {
   "cell_type": "code",
   "execution_count": 2,
   "metadata": {},
   "outputs": [
    {
     "name": "stderr",
     "output_type": "stream",
     "text": [
      "                                                                                \r"
     ]
    },
    {
     "name": "stdout",
     "output_type": "stream",
     "text": [
      "+---------------+----------+---------+-----------+------+---+-----------+--------+--------------+-----+----------+\n",
      "|transactions_id|sale_date |sale_time|customer_id|gender|age|category   |quantity|price_per_unit|cogs |total_sale|\n",
      "+---------------+----------+---------+-----------+------+---+-----------+--------+--------------+-----+----------+\n",
      "|180            |2022-11-05|10:47:00 |117        |Male  |41 |Clothing   |3       |300.0         |129.0|900.0     |\n",
      "|522            |2022-07-09|11:00:00 |52         |Male  |46 |Beauty     |3       |500.0         |145.0|1500.0    |\n",
      "|559            |2022-12-12|10:48:00 |5          |Female|40 |Clothing   |4       |300.0         |84.0 |1200.0    |\n",
      "|1180           |2022-01-06|08:53:00 |85         |Male  |41 |Clothing   |3       |300.0         |129.0|900.0     |\n",
      "|1522           |2022-11-14|08:35:00 |48         |Male  |46 |Beauty     |3       |500.0         |235.0|1500.0    |\n",
      "|1559           |2022-08-20|07:40:00 |49         |Female|40 |Clothing   |4       |300.0         |144.0|1200.0    |\n",
      "|163            |2022-10-31|09:38:00 |144        |Female|64 |Clothing   |3       |50.0          |23.0 |150.0     |\n",
      "|303            |2022-04-22|11:09:00 |54         |Male  |19 |Electronics|3       |30.0          |14.7 |90.0      |\n",
      "|421            |2022-04-08|08:43:00 |66         |Female|37 |Clothing   |3       |500.0         |235.0|1500.0    |\n",
      "|979            |2022-05-18|10:18:00 |6          |Female|19 |Beauty     |1       |25.0          |10.5 |25.0      |\n",
      "|1163           |2022-05-04|10:52:00 |120        |Female|64 |Clothing   |3       |50.0          |27.0 |150.0     |\n",
      "|1303           |2022-03-19|08:59:00 |58         |Male  |19 |Electronics|3       |30.0          |15.0 |90.0      |\n",
      "|1421           |2022-01-17|07:07:00 |59         |Female|37 |Clothing   |3       |500.0         |185.0|1500.0    |\n",
      "|1979           |2022-08-17|11:34:00 |102        |Female|19 |Beauty     |1       |25.0          |7.75 |25.0      |\n",
      "|610            |2022-12-18|06:56:00 |137        |Female|26 |Beauty     |2       |300.0         |93.0 |600.0     |\n",
      "|1610           |2022-11-23|10:18:00 |1          |Female|26 |Beauty     |2       |300.0         |102.0|600.0     |\n",
      "|32             |2022-07-16|09:11:00 |150        |Male  |30 |Beauty     |3       |30.0          |8.4  |90.0      |\n",
      "|231            |2022-07-09|07:02:00 |50         |Female|23 |Clothing   |3       |50.0          |26.5 |150.0     |\n",
      "|683            |2022-03-06|10:22:00 |82         |Male  |38 |Beauty     |2       |500.0         |175.0|1000.0    |\n",
      "|1032           |2022-04-01|08:15:00 |1          |Male  |30 |Beauty     |3       |30.0          |10.5 |90.0      |\n",
      "+---------------+----------+---------+-----------+------+---+-----------+--------+--------------+-----+----------+\n",
      "only showing top 20 rows\n",
      "\n"
     ]
    }
   ],
   "source": [
    "# Define the schema\n",
    "schema = StructType([\n",
    "    StructField(\"transactions_id\", IntegerType(), True),\n",
    "    StructField(\"sale_date\", DateType(), True),\n",
    "    StructField(\"sale_time\", StringType(), True),  # TimeType can be replaced with StringType if needed\n",
    "    StructField(\"customer_id\", IntegerType(), True),\n",
    "    StructField(\"gender\", StringType(), True),\n",
    "    StructField(\"age\", IntegerType(), True),\n",
    "    StructField(\"category\", StringType(), True),\n",
    "    StructField(\"quantity\", IntegerType(), True),\n",
    "    StructField(\"price_per_unit\", FloatType(), True),\n",
    "    StructField(\"cogs\", FloatType(), True),  # Cost of Goods Sold\n",
    "    StructField(\"total_sale\", FloatType(), True)\n",
    "])\n",
    "\n",
    "# Read the CSV file into a DataFrame\n",
    "df = spark.read.csv(\"/data/Retail-Sales-Analysis.csv\", header=True, schema=schema)\n",
    "\n",
    "df.createOrReplaceTempView(\"retail_sales\")\n",
    "spark.sql(\"SELECT * FROM retail_sales\").show(20,False)"
   ]
  },
  {
   "cell_type": "code",
   "execution_count": 3,
   "metadata": {},
   "outputs": [
    {
     "name": "stdout",
     "output_type": "stream",
     "text": [
      "+---------------+----------+---------+-----------+------+---+-----------+--------+--------------+-----+----------+\n",
      "|transactions_id|sale_date |sale_time|customer_id|gender|age|category   |quantity|price_per_unit|cogs |total_sale|\n",
      "+---------------+----------+---------+-----------+------+---+-----------+--------+--------------+-----+----------+\n",
      "|180            |2022-11-05|10:47:00 |117        |Male  |41 |Clothing   |3       |300.0         |129.0|900.0     |\n",
      "|522            |2022-07-09|11:00:00 |52         |Male  |46 |Beauty     |3       |500.0         |145.0|1500.0    |\n",
      "|559            |2022-12-12|10:48:00 |5          |Female|40 |Clothing   |4       |300.0         |84.0 |1200.0    |\n",
      "|1180           |2022-01-06|08:53:00 |85         |Male  |41 |Clothing   |3       |300.0         |129.0|900.0     |\n",
      "|1522           |2022-11-14|08:35:00 |48         |Male  |46 |Beauty     |3       |500.0         |235.0|1500.0    |\n",
      "|1559           |2022-08-20|07:40:00 |49         |Female|40 |Clothing   |4       |300.0         |144.0|1200.0    |\n",
      "|163            |2022-10-31|09:38:00 |144        |Female|64 |Clothing   |3       |50.0          |23.0 |150.0     |\n",
      "|303            |2022-04-22|11:09:00 |54         |Male  |19 |Electronics|3       |30.0          |14.7 |90.0      |\n",
      "|421            |2022-04-08|08:43:00 |66         |Female|37 |Clothing   |3       |500.0         |235.0|1500.0    |\n",
      "|979            |2022-05-18|10:18:00 |6          |Female|19 |Beauty     |1       |25.0          |10.5 |25.0      |\n",
      "|1163           |2022-05-04|10:52:00 |120        |Female|64 |Clothing   |3       |50.0          |27.0 |150.0     |\n",
      "|1303           |2022-03-19|08:59:00 |58         |Male  |19 |Electronics|3       |30.0          |15.0 |90.0      |\n",
      "|1421           |2022-01-17|07:07:00 |59         |Female|37 |Clothing   |3       |500.0         |185.0|1500.0    |\n",
      "|1979           |2022-08-17|11:34:00 |102        |Female|19 |Beauty     |1       |25.0          |7.75 |25.0      |\n",
      "|610            |2022-12-18|06:56:00 |137        |Female|26 |Beauty     |2       |300.0         |93.0 |600.0     |\n",
      "|1610           |2022-11-23|10:18:00 |1          |Female|26 |Beauty     |2       |300.0         |102.0|600.0     |\n",
      "|32             |2022-07-16|09:11:00 |150        |Male  |30 |Beauty     |3       |30.0          |8.4  |90.0      |\n",
      "|231            |2022-07-09|07:02:00 |50         |Female|23 |Clothing   |3       |50.0          |26.5 |150.0     |\n",
      "|683            |2022-03-06|10:22:00 |82         |Male  |38 |Beauty     |2       |500.0         |175.0|1000.0    |\n",
      "|1032           |2022-04-01|08:15:00 |1          |Male  |30 |Beauty     |3       |30.0          |10.5 |90.0      |\n",
      "+---------------+----------+---------+-----------+------+---+-----------+--------+--------------+-----+----------+\n",
      "only showing top 20 rows\n",
      "\n"
     ]
    }
   ],
   "source": [
    "# sql \n",
    "# WINDOW - ROW NUMBER / RANK / LAG / LEAD \n",
    "# Nested queries\n",
    "# Subqueries\n",
    "# retail_sales\n",
    "spark.sql(\"\"\"\n",
    "select *, row_number() over () from retail_sales  \n",
    "\"\"\").show(20,False)"
   ]
  },
  {
   "cell_type": "code",
   "execution_count": 1,
   "metadata": {},
   "outputs": [
    {
     "ename": "NameError",
     "evalue": "name 'spark' is not defined",
     "output_type": "error",
     "traceback": [
      "\u001b[0;31m---------------------------------------------------------------------------\u001b[0m",
      "\u001b[0;31mNameError\u001b[0m                                 Traceback (most recent call last)",
      "Cell \u001b[0;32mIn[1], line 2\u001b[0m\n\u001b[1;32m      1\u001b[0m \u001b[38;5;66;03m# Write a SQL query to calculate the total sales (total_sale) for each category\u001b[39;00m\n\u001b[0;32m----> 2\u001b[0m \u001b[43mspark\u001b[49m\u001b[38;5;241m.\u001b[39msql(\u001b[38;5;124m\"\"\"\u001b[39m\n\u001b[1;32m      3\u001b[0m \u001b[38;5;124m      SELECT SUM(total_sale) from retail_sales group by category    \u001b[39m\n\u001b[1;32m      4\u001b[0m \u001b[38;5;124m\"\"\"\u001b[39m)\u001b[38;5;241m.\u001b[39mshow(\u001b[38;5;241m20\u001b[39m,\u001b[38;5;28;01mFalse\u001b[39;00m)\n",
      "\u001b[0;31mNameError\u001b[0m: name 'spark' is not defined"
     ]
    }
   ],
   "source": [
    "# Write a SQL query to calculate the total sales (total_sale) for each category\n",
    "spark.sql(\"\"\"\n",
    "      SELECT SUM(total_sale) from retail_sales group by category    \n",
    "\"\"\").show(20,False)"
   ]
  },
  {
   "cell_type": "code",
   "execution_count": null,
   "metadata": {},
   "outputs": [],
   "source": [
    "# Write a SQL query to find the average age of customers who purchased items from the 'Beauty' category\n",
    "spark.sql(\"\"\"\n",
    "          \n",
    "\"\"\").show(20,False)"
   ]
  },
  {
   "cell_type": "code",
   "execution_count": null,
   "metadata": {},
   "outputs": [],
   "source": [
    "# Write a SQL query to find the total number of transactions (transaction_id) made by each gender in each category\n",
    "spark.sql(\"\"\"\n",
    "          \n",
    "\"\"\").show(20,False)"
   ]
  },
  {
   "cell_type": "code",
   "execution_count": null,
   "metadata": {},
   "outputs": [],
   "source": [
    "# Write a SQL query to find the top 5 customers based on the highest total \n",
    "spark.sql(\"\"\"\n",
    "          \n",
    "\"\"\").show(20,False)"
   ]
  },
  {
   "cell_type": "code",
   "execution_count": null,
   "metadata": {},
   "outputs": [],
   "source": [
    "# Write a SQL query to find the number of unique customers who purchased items from each category\n",
    "spark.sql(\"\"\"\n",
    "          \n",
    "\"\"\").show(20,False)\n"
   ]
  },
  {
   "cell_type": "code",
   "execution_count": null,
   "metadata": {},
   "outputs": [],
   "source": [
    "# Write a SQL query to create each shift and number of orders (Example Morning <12, Afternoon Between 12 & 17, Evening >17)\n",
    "spark.sql(\"\"\"\n",
    "          \n",
    "\"\"\").show(20,False)"
   ]
  },
  {
   "cell_type": "code",
   "execution_count": null,
   "metadata": {},
   "outputs": [],
   "source": [
    "# Write a SQL query to calculate the average sale for each month. Find out best selling month in each year\n",
    "spark.sql(\"\"\"\n",
    "          \n",
    "\"\"\").show(20,False)"
   ]
  },
  {
   "cell_type": "code",
   "execution_count": 4,
   "metadata": {},
   "outputs": [],
   "source": [
    "spark.stop()"
   ]
  }
 ],
 "metadata": {
  "kernelspec": {
   "display_name": "Python 3 (ipykernel)",
   "language": "python",
   "name": "python3"
  },
  "language_info": {
   "codemirror_mode": {
    "name": "ipython",
    "version": 3
   },
   "file_extension": ".py",
   "mimetype": "text/x-python",
   "name": "python",
   "nbconvert_exporter": "python",
   "pygments_lexer": "ipython3",
   "version": "3.8.10"
  }
 },
 "nbformat": 4,
 "nbformat_minor": 2
}
